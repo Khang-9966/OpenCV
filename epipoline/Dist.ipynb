{
 "cells": [
  {
   "cell_type": "code",
   "execution_count": 1,
   "metadata": {},
   "outputs": [],
   "source": [
    "from __future__ import division, print_function, unicode_literals\n",
    "import numpy as np \n",
    "import matplotlib.pyplot as plt\n",
    "import pandas\n",
    "from sklearn import datasets, linear_model"
   ]
  },
  {
   "cell_type": "code",
   "execution_count": 2,
   "metadata": {
    "scrolled": true
   },
   "outputs": [],
   "source": [
    "df = pandas.read_csv('dist.csv')\n",
    "dfpixel = pandas.DataFrame(df['pixel'])\n",
    "dfcm = pandas.DataFrame(df['cm'])\n",
    "x = dfpixel.to_numpy()\n",
    "y = dfcm.to_numpy()"
   ]
  },
  {
   "cell_type": "code",
   "execution_count": 3,
   "metadata": {},
   "outputs": [
    {
     "data": {
      "image/png": "[encoded data removed]",
      "text/plain": [
       "<Figure size 432x288 with 1 Axes>"
      ]
     },
     "metadata": {},
     "output_type": "display_data"
    }
   ],
   "source": [
    "plt.plot(x, y, 'ro')\n",
    "plt.show()\n"
   ]
  },
  {
   "cell_type": "code",
   "execution_count": 5,
   "metadata": {},
   "outputs": [
    {
     "name": "stdout",
     "output_type": "stream",
     "text": [
      "(342, 1)\n"
     ]
    },
    {
     "data": {
      "text/plain": [
       "array([[1.00000000e+00, 3.72171059e+02, 1.38511297e+05, 5.15498962e+07,\n",
       "        1.91853795e+10],\n",
       "       [1.00000000e+00, 3.70493670e+02, 1.37265559e+05, 5.08560208e+07,\n",
       "        1.88418338e+10],\n",
       "       [1.00000000e+00, 3.71614750e+02, 1.38097522e+05, 5.13190762e+07,\n",
       "        1.90709257e+10],\n",
       "       ...,\n",
       "       [1.00000000e+00, 1.14703413e+03, 1.31568729e+06, 1.50913823e+09,\n",
       "        1.73103305e+12],\n",
       "       [1.00000000e+00, 1.14170945e+03, 1.30350048e+06, 1.48821882e+09,\n",
       "        1.69911349e+12],\n",
       "       [1.00000000e+00, 1.13663244e+03, 1.29193330e+06, 1.46845329e+09,\n",
       "        1.66909165e+12]])"
      ]
     },
     "execution_count": 5,
     "metadata": {},
     "output_type": "execute_result"
    }
   ],
   "source": [
    "one = np.ones(( x.shape[0] , 1))\n",
    "#print(one.shape)\n",
    "print(x.shape)\n",
    "Xbar = np.concatenate((one, x , x**2 , x**3 , x**4 ), axis = 1)\n",
    "Xbar = Xbar\n",
    "y = y\n",
    "Xbar"
   ]
  },
  {
   "cell_type": "code",
   "execution_count": 6,
   "metadata": {},
   "outputs": [
    {
     "name": "stdout",
     "output_type": "stream",
     "text": [
      "Solution found by scikit-learn  :  [[ 0.00000000e+00  7.55723716e-02  5.36279911e-05 -3.12188045e-08\n",
      "   2.20282126e-12]]\n",
      "Solution found by scikit-learn  :  [6.16922869]\n"
     ]
    },
    {
     "data": {
      "text/plain": [
       "-3.121880448838971e-08"
      ]
     },
     "execution_count": 6,
     "metadata": {},
     "output_type": "execute_result"
    }
   ],
   "source": [
    "regr = linear_model.LinearRegression() # fit_intercept = False for calculating the bias\n",
    "regr.fit(Xbar, y)\n",
    "\n",
    "# Compare two results\n",
    "print( 'Solution found by scikit-learn  : ', regr.coef_ )\n",
    "print( 'Solution found by scikit-learn  : ', regr.intercept_ )\n",
    "\n",
    "regr.coef_[0,3]"
   ]
  },
  {
   "cell_type": "code",
   "execution_count": 29,
   "metadata": {},
   "outputs": [
    {
     "data": {
      "image/png": "[encoded data removed]",
      "text/plain": [
       "<Figure size 432x288 with 1 Axes>"
      ]
     },
     "metadata": {},
     "output_type": "display_data"
    }
   ],
   "source": [
    "y_pred = regr.predict(Xbar)\n",
    "plt.scatter(x,y)\n",
    "plt.plot(x,y_pred,'r')\n",
    "plt.show()"
   ]
  },
  {
   "cell_type": "code",
   "execution_count": 31,
   "metadata": {},
   "outputs": [
    {
     "name": "stdout",
     "output_type": "stream",
     "text": [
      "(1, 1)\n",
      "(1, 1)\n"
     ]
    },
    {
     "data": {
      "text/plain": [
       "array([[48.17631908]])"
      ]
     },
     "execution_count": 31,
     "metadata": {},
     "output_type": "execute_result"
    }
   ],
   "source": [
    "xt = np.array([[449]])\n",
    "one = np.ones(( xt.shape[0] , 1))\n",
    "print(one.shape)\n",
    "print(xt.shape)\n",
    "Xt = np.concatenate((one, xt , xt**2 , xt**3 , xt**4 ), axis = 1)\n",
    "regr.predict(Xt)"
   ]
  },
  {
   "cell_type": "code",
   "execution_count": 33,
   "metadata": {},
   "outputs": [
    {
     "data": {
      "text/plain": [
       "48.17631910506363"
      ]
     },
     "execution_count": 33,
     "metadata": {},
     "output_type": "execute_result"
    }
   ],
   "source": [
    "average_dist=449\n",
    "1*0.00000000e+00 + average_dist*07.55723716e-02 + average_dist**2*5.36279911e-05 \\\n",
    "                + average_dist**3*-3.12188045e-08 + average_dist**4*2.20282126e-12 + 6.16922869"
   ]
  },
  {
   "cell_type": "code",
   "execution_count": null,
   "metadata": {},
   "outputs": [],
   "source": []
  }
 ],
 "metadata": {
  "kernelspec": {
   "display_name": "myenv",
   "language": "python",
   "name": "myenv"
  },
  "language_info": {
   "codemirror_mode": {
    "name": "ipython",
    "version": 3
   },
   "file_extension": ".py",
   "mimetype": "text/x-python",
   "name": "python",
   "nbconvert_exporter": "python",
   "pygments_lexer": "ipython3",
   "version": "3.6.5"
  }
 },
 "nbformat": 4,
 "nbformat_minor": 2
}
